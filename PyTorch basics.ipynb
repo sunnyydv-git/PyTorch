{
 "cells": [
  {
   "cell_type": "code",
   "execution_count": 1,
   "id": "ae7da2dc-119c-4a89-971c-6521ef353a3a",
   "metadata": {},
   "outputs": [],
   "source": [
    "import torch"
   ]
  },
  {
   "cell_type": "code",
   "execution_count": 2,
   "id": "9b4701bb-3789-41ec-8b87-0d7240c74e0b",
   "metadata": {},
   "outputs": [
    {
     "name": "stdout",
     "output_type": "stream",
     "text": [
      "tensor([11., 23., 13.])\n"
     ]
    }
   ],
   "source": [
    "# Creating a tensor from a list\n",
    "tensor_a = torch.tensor([11.0, 23.0, 13.0])\n",
    "print(tensor_a)"
   ]
  },
  {
   "cell_type": "code",
   "execution_count": 4,
   "id": "e310d72c-e678-4912-8228-cea219ee15a5",
   "metadata": {},
   "outputs": [
    {
     "name": "stdout",
     "output_type": "stream",
     "text": [
      "tensor([15., 28., 19.])\n"
     ]
    }
   ],
   "source": [
    "# Basic tensor operations\n",
    "tensor_b = torch.tensor([4.0, 5.0, 6.0])\n",
    "result = tensor_a + tensor_b\n",
    "print(result)"
   ]
  },
  {
   "cell_type": "code",
   "execution_count": 5,
   "id": "a78b399c-9ce1-4bcd-bb00-d11ff6051760",
   "metadata": {},
   "outputs": [
    {
     "name": "stdout",
     "output_type": "stream",
     "text": [
      "tensor([ 44., 115.,  78.])\n"
     ]
    }
   ],
   "source": [
    "# Element-wise multiplication\n",
    "result = tensor_a * tensor_b\n",
    "print(result)"
   ]
  },
  {
   "cell_type": "code",
   "execution_count": 6,
   "id": "9ba8e671-8c18-407f-9fe3-0681d4330a77",
   "metadata": {},
   "outputs": [
    {
     "name": "stdout",
     "output_type": "stream",
     "text": [
      "tensor([[0.9469, 0.3733, 0.2010],\n",
      "        [0.1379, 0.6365, 0.2998],\n",
      "        [0.4563, 0.0820, 0.2894]])\n"
     ]
    }
   ],
   "source": [
    "# Create a tensor with random values\n",
    "tensor_random = torch.rand(3, 3)  # 3x3 tensor\n",
    "print(tensor_random)"
   ]
  },
  {
   "cell_type": "code",
   "execution_count": 7,
   "id": "61e69483-9b0b-41af-93fa-50a8ad649a62",
   "metadata": {},
   "outputs": [
    {
     "name": "stdout",
     "output_type": "stream",
     "text": [
      "torch.Size([3])\n",
      "torch.float32\n",
      "cpu\n"
     ]
    }
   ],
   "source": [
    "print(tensor_a.shape)   # Shape of the tensor\n",
    "print(tensor_a.dtype)   # Data type of the tensor\n",
    "print(tensor_a.device)  # Device (CPU or GPU)"
   ]
  },
  {
   "cell_type": "code",
   "execution_count": 8,
   "id": "b444088e-273b-4954-89ff-d1739fb8ac22",
   "metadata": {},
   "outputs": [],
   "source": [
    "# moving tensors to GPU -> \n",
    "device = torch.device(\"cuda\" if torch.cuda.is_available() else \"cpu\")\n",
    "tensor_a = tensor_a.to(device)"
   ]
  },
  {
   "cell_type": "code",
   "execution_count": 9,
   "id": "dade331b-eeb7-4283-850d-737e7ef1ed4a",
   "metadata": {},
   "outputs": [
    {
     "data": {
      "text/plain": [
       "device(type='cuda', index=0)"
      ]
     },
     "execution_count": 9,
     "metadata": {},
     "output_type": "execute_result"
    }
   ],
   "source": [
    "tensor_a.device"
   ]
  },
  {
   "cell_type": "code",
   "execution_count": 10,
   "id": "7dbe245f-bd6e-4951-9d59-b90da906d86d",
   "metadata": {},
   "outputs": [
    {
     "data": {
      "text/plain": [
       "True"
      ]
     },
     "execution_count": 10,
     "metadata": {},
     "output_type": "execute_result"
    }
   ],
   "source": [
    "torch.cuda.is_available()"
   ]
  },
  {
   "cell_type": "code",
   "execution_count": 11,
   "id": "17992f37-27e0-46b4-8253-15afda49932d",
   "metadata": {},
   "outputs": [
    {
     "name": "stdout",
     "output_type": "stream",
     "text": [
      "tensor([30, 40])\n"
     ]
    }
   ],
   "source": [
    "# tensor indexing and slicing\n",
    "tensor_c = torch.tensor([10, 20, 30, 40, 50])\n",
    "\n",
    "print(tensor_c[2:4])"
   ]
  },
  {
   "cell_type": "code",
   "execution_count": null,
   "id": "9eeca186-f795-4a1e-a208-c88ecec40fad",
   "metadata": {},
   "outputs": [],
   "source": []
  }
 ],
 "metadata": {
  "kernelspec": {
   "display_name": "Python 3 (ipykernel)",
   "language": "python",
   "name": "python3"
  },
  "language_info": {
   "codemirror_mode": {
    "name": "ipython",
    "version": 3
   },
   "file_extension": ".py",
   "mimetype": "text/x-python",
   "name": "python",
   "nbconvert_exporter": "python",
   "pygments_lexer": "ipython3",
   "version": "3.8.20"
  }
 },
 "nbformat": 4,
 "nbformat_minor": 5
}
