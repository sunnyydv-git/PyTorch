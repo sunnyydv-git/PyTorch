{
 "cells": [
  {
   "cell_type": "code",
   "execution_count": 2,
   "id": "0ae55e2c-d169-4852-b88c-2efbf43b107d",
   "metadata": {},
   "outputs": [],
   "source": [
    "import torch\n",
    "import torch.nn as nn\n",
    "import torch.optim as optim\n",
    "from torch.utils.data import DataLoader, TensorDataset"
   ]
  },
  {
   "cell_type": "code",
   "execution_count": 3,
   "id": "ed3f47fd-0e16-470b-b143-badc792aa049",
   "metadata": {},
   "outputs": [],
   "source": [
    "# Generating synthetic data\n",
    "torch.manual_seed(42)\n",
    "X = torch.rand(100,1) * 10\n",
    "y = 2 * X + 3 + torch.randn(100, 1)"
   ]
  },
  {
   "cell_type": "code",
   "execution_count": 6,
   "id": "5375ddb5-e528-4599-bf45-28a32eaf2595",
   "metadata": {},
   "outputs": [],
   "source": [
    "# Create tensordata and dataloader\n",
    "dataset = TensorDataset(X,y)\n",
    "dataloader = DataLoader(dataset, batch_size = 16, shuffle = True)"
   ]
  },
  {
   "cell_type": "code",
   "execution_count": 7,
   "id": "3e2e097a-2b62-4b94-8a8f-2b5c4b88094c",
   "metadata": {},
   "outputs": [],
   "source": [
    "# Define Sequential Model\n",
    "model = nn.Sequential(\n",
    "    nn.Linear(1,10),    # Input Layer (1 feature) to hidden layer ( 10 neurons)\n",
    "    nn.ReLU(),          # Activation function\n",
    "    nn.Linear(10,1)     # Hidden layer to output layer (1 target)\n",
    ")"
   ]
  },
  {
   "cell_type": "code",
   "execution_count": 9,
   "id": "d2d71c41-b37b-444f-9879-d93da729f768",
   "metadata": {},
   "outputs": [],
   "source": [
    "# Define loss and optimizer\n",
    "loss_mse = nn.MSELoss()\n",
    "optimizer = optim.SGD(model.parameters(), lr = 0.001)"
   ]
  },
  {
   "cell_type": "code",
   "execution_count": 10,
   "id": "fb1837a8-0c54-4e65-8c35-2b1c0490b491",
   "metadata": {},
   "outputs": [
    {
     "name": "stdout",
     "output_type": "stream",
     "text": [
      "Epoch [10/100], Loss: 0.5753\n",
      "Epoch [20/100], Loss: 1.3240\n",
      "Epoch [30/100], Loss: 0.2927\n",
      "Epoch [40/100], Loss: 0.1944\n",
      "Epoch [50/100], Loss: 0.9029\n",
      "Epoch [60/100], Loss: 0.6527\n",
      "Epoch [70/100], Loss: 1.4632\n",
      "Epoch [80/100], Loss: 1.8995\n",
      "Epoch [90/100], Loss: 0.3833\n",
      "Epoch [100/100], Loss: 0.8550\n"
     ]
    }
   ],
   "source": [
    "# Training Loop\n",
    "epochs = 100\n",
    "for epoch in range(epochs):\n",
    "    for batch_X, batch_y in dataloader:\n",
    "        # Forward pass\n",
    "        predictions = model(batch_X)\n",
    "        loss = loss_mse(predictions, batch_y)\n",
    "\n",
    "        # backward pass and optimization\n",
    "        optimizer.zero_grad()\n",
    "        loss.backward()\n",
    "        optimizer.step()\n",
    "\n",
    "    # Print loss for every 10th epoch\n",
    "    if (epoch + 1) % 10 == 0:\n",
    "        print(f\"Epoch [{epoch+1}/{epochs}], Loss: {loss.item():.4f}\")\n",
    "        "
   ]
  },
  {
   "cell_type": "code",
   "execution_count": 11,
   "id": "9b0fe559-ee3d-40d3-9a96-2e0dfc82c23c",
   "metadata": {},
   "outputs": [
    {
     "name": "stdout",
     "output_type": "stream",
     "text": [
      "Prediction for input 5.0: 12.8951\n"
     ]
    }
   ],
   "source": [
    "# Evaluate the model\n",
    "model.eval()\n",
    "with torch.no_grad():\n",
    "    sample_X = torch.tensor([[5.0]])  # Example input\n",
    "    prediction = model(sample_X)\n",
    "    print(f\"Prediction for input {sample_X.item()}: {prediction.item():.4f}\")\n"
   ]
  },
  {
   "cell_type": "code",
   "execution_count": null,
   "id": "0843052a-0253-4ac4-9ea2-0668ff0365b7",
   "metadata": {},
   "outputs": [],
   "source": []
  }
 ],
 "metadata": {
  "kernelspec": {
   "display_name": "Python 3 (ipykernel)",
   "language": "python",
   "name": "python3"
  },
  "language_info": {
   "codemirror_mode": {
    "name": "ipython",
    "version": 3
   },
   "file_extension": ".py",
   "mimetype": "text/x-python",
   "name": "python",
   "nbconvert_exporter": "python",
   "pygments_lexer": "ipython3",
   "version": "3.8.20"
  }
 },
 "nbformat": 4,
 "nbformat_minor": 5
}
