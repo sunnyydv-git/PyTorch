{
 "cells": [
  {
   "cell_type": "code",
   "execution_count": 1,
   "id": "e333212d-8d26-4710-a9c3-c8d0b7a66703",
   "metadata": {},
   "outputs": [],
   "source": [
    "from torch.utils.data import Dataset, DataLoader"
   ]
  },
  {
   "cell_type": "code",
   "execution_count": 2,
   "id": "db0295d7-d010-4388-9a44-a30469dde32d",
   "metadata": {},
   "outputs": [],
   "source": [
    "# Example Dataset\n",
    "class CustomDataset(Dataset):\n",
    "    def __init__(self, data, labels):\n",
    "        self.data = data\n",
    "        self.labels = labels\n",
    "    \n",
    "    def __len__(self):\n",
    "        return len(self.data)\n",
    "    \n",
    "    def __getitem__(self, idx):\n",
    "        return self.data[idx], self.labels[idx]"
   ]
  },
  {
   "cell_type": "code",
   "execution_count": 5,
   "id": "0b402880-e778-40d6-9ae3-5a206e8e125f",
   "metadata": {},
   "outputs": [
    {
     "name": "stdout",
     "output_type": "stream",
     "text": [
      "[[0], [1], [2], [3], [4], [5], [6], [7], [8], [9]]\n",
      "[0, 1, 0, 1, 0, 1, 0, 1, 0, 1]\n"
     ]
    }
   ],
   "source": [
    "# Example data\n",
    "data = [[i] for i in range(10)]\n",
    "print(data)\n",
    "labels = [i % 2 for i in range(10)]\n",
    "print(labels)\n",
    "dataset = CustomDataset(data, labels)"
   ]
  },
  {
   "cell_type": "code",
   "execution_count": 9,
   "id": "aa394584-9824-4761-a714-07babf06e7b5",
   "metadata": {},
   "outputs": [],
   "source": [
    "# Dataloader \n",
    "dataloader = DataLoader(dataset, batch_size = 2, shuffle = True)"
   ]
  },
  {
   "cell_type": "code",
   "execution_count": 10,
   "id": "42ada7a1-6960-4950-a5bc-25b944deba55",
   "metadata": {},
   "outputs": [
    {
     "name": "stdout",
     "output_type": "stream",
     "text": [
      "[[tensor([4, 8])], tensor([0, 0])]\n",
      "[[tensor([7, 5])], tensor([1, 1])]\n",
      "[[tensor([0, 6])], tensor([0, 0])]\n",
      "[[tensor([2, 3])], tensor([0, 1])]\n",
      "[[tensor([9, 1])], tensor([1, 1])]\n"
     ]
    }
   ],
   "source": [
    "for batch in dataloader:\n",
    "    print(batch)"
   ]
  },
  {
   "cell_type": "code",
   "execution_count": 15,
   "id": "9491aa99-9af5-4f89-8f5a-ee942f188182",
   "metadata": {},
   "outputs": [],
   "source": [
    "import torch\n",
    "from torchvision import transforms, datasets"
   ]
  },
  {
   "cell_type": "code",
   "execution_count": 14,
   "id": "8b1520cf-06ad-42fc-a59d-3c7c4216d9ae",
   "metadata": {},
   "outputs": [
    {
     "name": "stdout",
     "output_type": "stream",
     "text": [
      "Transformed data shape: torch.Size([5, 3, 64, 64])\n"
     ]
    }
   ],
   "source": [
    "# Example tensor data\n",
    "data = torch.rand((5, 3, 64, 64))  # 5 images, 3 channels, 64x64 size\n",
    "\n",
    "# Transformation\n",
    "transform = transforms.Compose([\n",
    "    transforms.Normalize(mean = [0.5, 0.5, 0.5], std = [0.5, 0.5, 0.5])    # Normalize\n",
    "])\n",
    "\n",
    "transformed_data = transform(data)\n",
    "print(\"Transformed data shape:\", transformed_data.shape)"
   ]
  },
  {
   "cell_type": "code",
   "execution_count": 16,
   "id": "e10ffc64-79b8-4cc4-88fc-c5365ffd652d",
   "metadata": {},
   "outputs": [
    {
     "name": "stdout",
     "output_type": "stream",
     "text": [
      "torch.Size([32, 1, 28, 28]) torch.Size([32])\n"
     ]
    }
   ],
   "source": [
    "# Download and load the MNIST dataset\n",
    "mnist_train = datasets.MNIST(root = './data', train = True, download = True, transform = transforms.ToTensor())\n",
    "mnist_loader = DataLoader(mnist_train, batch_size = 32, shuffle = True)\n",
    "\n",
    "for images, labels in mnist_loader:\n",
    "    print(images.shape, labels.shape)\n",
    "    break"
   ]
  },
  {
   "cell_type": "code",
   "execution_count": 17,
   "id": "ced7b8e3-b2b8-421b-b279-a625b03da970",
   "metadata": {},
   "outputs": [
    {
     "name": "stdout",
     "output_type": "stream",
     "text": [
      "tensor([2, 3, 4])\n"
     ]
    }
   ],
   "source": [
    "class CustomTransform:\n",
    "    def __call__(self, sample):\n",
    "        # Example: Add a constant to the sample\n",
    "        return sample + 1\n",
    "\n",
    "transform = CustomTransform()\n",
    "data = torch.tensor([1, 2, 3])\n",
    "print(transform(data))\n"
   ]
  },
  {
   "cell_type": "code",
   "execution_count": null,
   "id": "eaa5caed-3bf0-4a42-9fdb-39fdda3a319c",
   "metadata": {},
   "outputs": [],
   "source": []
  }
 ],
 "metadata": {
  "kernelspec": {
   "display_name": "Python 3 (ipykernel)",
   "language": "python",
   "name": "python3"
  },
  "language_info": {
   "codemirror_mode": {
    "name": "ipython",
    "version": 3
   },
   "file_extension": ".py",
   "mimetype": "text/x-python",
   "name": "python",
   "nbconvert_exporter": "python",
   "pygments_lexer": "ipython3",
   "version": "3.8.20"
  }
 },
 "nbformat": 4,
 "nbformat_minor": 5
}
